{
 "cells": [
  {
   "cell_type": "code",
<<<<<<< HEAD
   "execution_count": 1,
   "metadata": {},
   "outputs": [
    {
=======
   "execution_count": 5,
   "metadata": {},
   "outputs": [
    {
     "name": "stderr",
     "output_type": "stream",
     "text": [
      "C:\\Users\\ganto\\AppData\\Local\\Continuum\\anaconda3\\lib\\site-packages\\h5py\\__init__.py:36: FutureWarning: Conversion of the second argument of issubdtype from `float` to `np.floating` is deprecated. In future, it will be treated as `np.float64 == np.dtype(float).type`.\n",
      "  from ._conv import register_converters as _register_converters\n"
     ]
    },
    {
>>>>>>> 1a5298757104a1ba9fe7d15a5f01a0e98bc8855d
     "name": "stdout",
     "output_type": "stream",
     "text": [
      "\n",
      "WARNING: The TensorFlow contrib module will not be included in TensorFlow 2.0.\n",
      "For more information, please see:\n",
      "  * https://github.com/tensorflow/community/blob/master/rfcs/20180907-contrib-sunset.md\n",
      "  * https://github.com/tensorflow/addons\n",
      "If you depend on functionality not listed there, please file an issue.\n",
      "\n"
     ]
    }
   ],
   "source": [
    "import tensorflow as tf\n",
    "import tensorflow_probability.python.distributions as tfp\n",
    "from collections import deque\n",
    "import random as rand\n",
    "import numpy as np\n",
    "%matplotlib inline\n",
    "import matplotlib\n",
    "import matplotlib.pyplot as plt\n",
    "import gym"
   ]
  },
  {
   "cell_type": "code",
<<<<<<< HEAD
   "execution_count": 2,
=======
   "execution_count": 42,
>>>>>>> 1a5298757104a1ba9fe7d15a5f01a0e98bc8855d
   "metadata": {},
   "outputs": [],
   "source": [
    "# define neural net Q_\\theta(s,a) as a class\n",
    "\n",
    "class Qfunction(object):\n",
    "    \n",
    "    def __init__(self, obssize, actsize, sess, optimizer):\n",
    "        \"\"\"\n",
    "        obssize: dimension of state space\n",
    "        actsize: dimension of action space\n",
    "        sess: sess to execute this Qfunction\n",
    "        optimizer: \n",
    "        \"\"\"\n",
    "        # build the prediction graph\n",
    "        state = tf.placeholder(tf.float32, [None, obssize])\n",
    "        initializer = tf.contrib.layers.xavier_initializer()\n",
    "        \n",
    "        W1 = tf.Variable(initializer([obssize,20]))\n",
    "        b1 = tf.Variable(initializer([20]))\n",
    "        W2 = tf.Variable(initializer([20, actsize]))\n",
    "        b2 = tf.Variable(initializer([actsize]))\n",
<<<<<<< HEAD
    "\n",
=======
    "        k =  W1\n",
>>>>>>> 1a5298757104a1ba9fe7d15a5f01a0e98bc8855d
    "        h1 = tf.nn.sigmoid(tf.matmul(state, W1) + b1)\n",
    "        h = tf.matmul(h1, W2) + b2\n",
    "        \n",
    "        Qvalues = h # (n,2) matrix\n",
    "        Qvalues_probs = tf.nn.softmax(Qvalues)\n",
    "        \n",
    "        targets = tf.placeholder(tf.float32, [None])\n",
    "        actions = tf.placeholder(tf.int32, [None])\n",
    "        action_ohe = tf.one_hot(actions, actsize) # (n,2) - matrix\n",
    "        batch_Q = tf.placeholder(tf.float32, [None, actsize]) # this gets a batch of [1,2] matrices\n",
    "        historic_order = tf.placeholder(tf.float32, [None])\n",
    "        \n",
    "        historic_order_probs = tf.nn.softmax(historic_order)\n",
    "        \n",
    "        #########################   KL   ##########################\n",
    "\n",
    "        X = tfp.Categorical(probs=Qvalues_probs)\n",
    "        Y = tfp.Categorical(probs=batch_Q)\n",
    "        distance = tfp.kl_divergence(X, Y)\n",
    "        exploration_loss_KL = tf.tensordot(distance, historic_order_probs, axes=[0,0])\n",
    "        \n",
    "        #########################   L1   ###########################\n",
    "        Dif_ = batch_Q - Qvalues_probs\n",
    "        norm_L1 = tf.norm(Dif_, axis=1,  ord=1)\n",
    "        exploration_loss_L1 = tf.tensordot(norm_L1, historic_order_probs, axes=[0,0])\n",
    "        \n",
    "        \n",
    "        #########################   L2   ###########################\n",
<<<<<<< HEAD
=======
    "\n",
>>>>>>> 1a5298757104a1ba9fe7d15a5f01a0e98bc8855d
    "        norm_L2 = tf.norm(Dif_+1e-5, axis=1,  ord=2)\n",
    "        exploration_loss_L2 = tf.tensordot(norm_L2, historic_order_probs, axes=[0,0])\n",
    "        \n",
    "        ########################   Linf   ############################\n",
    "        \n",
    "        norm_Linf = tf.norm(Dif_, axis=1,  ord=np.inf)\n",
    "        exploration_loss_Linf = tf.tensordot(norm_Linf, historic_order_probs, axes=[0,0])\n",
    "        \n",
    "        ############################################################\n",
    "\n",
    "        \n",
    "        Qpreds = tf.reduce_sum(Qvalues * action_ohe, axis=1)#elementwise multiplication here\n",
    "        td_errors = targets - Qpreds\n",
    "        \n",
    "        loss = tf.reduce_mean(tf.square(td_errors))\n",
    "        explore_alpha = tf.placeholder(tf.float32,[])\n",
    "        loss_and_exploration_loss_KL = loss - explore_alpha*exploration_loss_KL\n",
    "        loss_and_exploration_loss_L1 = loss - explore_alpha*exploration_loss_L1\n",
    "        loss_and_exploration_loss_L2 = loss - explore_alpha*exploration_loss_L2\n",
    "        loss_and_exploration_loss_Linf = loss - explore_alpha*exploration_loss_Linf\n",
    "\n",
    "        # optimization\n",
    "        self.train_explore_KL = optimizer.minimize(loss_and_exploration_loss_KL)\n",
    "        self.train_explore_L1 = optimizer.minimize(loss_and_exploration_loss_L1)\n",
    "        self.train_explore_L2 = optimizer.minimize(loss_and_exploration_loss_L2)\n",
    "        self.train_explore_Linf = optimizer.minimize(loss_and_exploration_loss_Linf)\n",
    "    \n",
    "        # some bookkeeping\n",
    "        self.Qvalues = Qvalues\n",
    "        self.Qvalues_probs = Qvalues_probs \n",
    "        self.state = state\n",
    "        self.actions = actions\n",
    "        self.targets = targets\n",
    "        self.batch_Q = batch_Q\n",
    "        self.loss = loss\n",
    "        self.explore_alpha = explore_alpha\n",
    "        self.exploration_loss_KL = exploration_loss_KL\n",
    "        self.exploration_loss_L1 = exploration_loss_L1\n",
    "        self.exploration_loss_L2 = exploration_loss_L2\n",
    "        self.exploration_loss_Linf = exploration_loss_Linf\n",
    "        self.historic_order = historic_order\n",
    "        self.sess = sess\n",
    "    \n",
    "    def compute_Qvalues(self, states):\n",
    "        \"\"\"\n",
    "        states: numpy array as input to the neural net, states should have\n",
    "        size [numsamples, obssize], where numsamples is the number of samples\n",
    "        output: Q values for these states. The output should have size \n",
    "        [numsamples, actsize] as numpy array\n",
    "        \"\"\"\n",
<<<<<<< HEAD
    "        return self.sess.run(self.Qvalues, feed_dict={self.state: states})\n",
=======
    "        return self.sess.run(self.h1, feed_dict={self.state: states})\n",
>>>>>>> 1a5298757104a1ba9fe7d15a5f01a0e98bc8855d
    "    \n",
    "    def compute_Qvalues_probs(self, states):\n",
    "        \"\"\"\n",
    "        states: numpy array as input to the neural net, states should have\n",
    "        size [numsamples, obssize], where numsamples is the number of samples\n",
    "        output: Q values for these states. The output should have size \n",
    "        [numsamples, actsize] as numpy array\n",
    "        \"\"\"\n",
    "        return self.sess.run(self.Qvalues_probs, feed_dict={self.state: states})\n",
<<<<<<< HEAD
=======
    "    \n",
    "    def compute_Qvalues(self, states):\n",
    "        \"\"\"\n",
    "        states: numpy array as input to the neural net, states should have\n",
    "        size [numsamples, obssize], where numsamples is the number of samples\n",
    "        output: Q values for these states. The output should have size \n",
    "        [numsamples, actsize] as numpy array\n",
    "        \"\"\"\n",
    "        return self.sess.run(self.Qvalues, feed_dict={self.state: states})\n",
>>>>>>> 1a5298757104a1ba9fe7d15a5f01a0e98bc8855d
    "\n",
    "    def train(self, states, actions, targets):\n",
    "        \"\"\"\n",
    "        states: numpy array as input to compute loss (s)\n",
    "        actions: numpy array as input to compute loss (a)\n",
    "        targets: numpy array as input to compute loss (Q targets)\n",
    "        \"\"\"\n",
    "        return self.sess.run([self.loss,self.train_op], feed_dict={self.state:states, self.actions:actions,\\\n",
    "                                                                   self.targets:targets})\n",
    "    \n",
    "    def train_explore_(self, states, actions, targets, batch_Q, exploration_alpha, historic_order, distance_metric):\n",
    "        \"\"\"\n",
    "        states: numpy array as input to compute loss (s)\n",
    "        actions: numpy array as input to compute loss (a)\n",
    "        targets: numpy array as input to compute loss (Q targets)\n",
    "        batch_Q: numpy array as input to compute loss_explore\n",
    "        exploration_alpha: numpy array as input to loss_and_exploration_loss\n",
    "        \n",
    "        \"\"\"\n",
    "        if distance_metric == \"KL\":\n",
    "            return self.sess.run(self.train_explore_KL, feed_dict={self.state:states, self.actions:actions,\\\n",
    "                                                            self.targets:targets, self.batch_Q:batch_Q,\\\n",
    "                                                            self.explore_alpha:exploration_alpha,\\\n",
    "                                                            self.historic_order:historic_order})\n",
    "        elif distance_metric == \"L1\":\n",
    "            return self.sess.run(self.train_explore_L1, feed_dict={self.state:states, self.actions:actions,\\\n",
    "                                                            self.targets:targets, self.batch_Q:batch_Q,\\\n",
    "                                                            self.explore_alpha:exploration_alpha,\\\n",
    "                                                            self.historic_order:historic_order})\n",
    "        elif distance_metric == \"L2\":\n",
    "            return self.sess.run(self.train_explore_L2, feed_dict={self.state:states, self.actions:actions,\\\n",
    "                                                            self.targets:targets, self.batch_Q:batch_Q,\\\n",
    "                                                            self.explore_alpha:exploration_alpha,\\\n",
    "                                                            self.historic_order:historic_order})\n",
    "        elif distance_metric == \"Linf\":\n",
    "            return self.sess.run(self.train_explore_Linf, feed_dict={self.state:states, self.actions:actions,\\\n",
    "                                                            self.targets:targets, self.batch_Q:batch_Q,\\\n",
    "                                                            self.explore_alpha:exploration_alpha,\\\n",
    "                                                            self.historic_order:historic_order})\n",
    "    \n",
    "    def compute_exploration_loss(self, states, actions, targets, batch_Q, historic_order, distance_metric):\n",
    "        \"\"\"\n",
    "        states: numpy array as input to compute loss (s)\n",
    "        actions: numpy array as input to compute loss (a)\n",
    "        targets: numpy array as input to compute loss (Q targets)\n",
    "        batch_Q: numpy array as input to compute loss_explore\n",
    "        \"\"\"\n",
    "        if distance_metric == \"KL\":\n",
    "            return self.sess.run(self.exploration_loss_KL, feed_dict={self.state:states, self.actions:actions,\\\n",
    "                                                               self.targets:targets, self.batch_Q:batch_Q,\\\n",
    "                                                               self.historic_order:historic_order})\n",
    "        if distance_metric == \"L1\":\n",
    "            return self.sess.run(self.exploration_loss_L1, feed_dict={self.state:states, self.actions:actions,\\\n",
    "                                                               self.targets:targets, self.batch_Q:batch_Q,\\\n",
    "                                                               self.historic_order:historic_order})\n",
    "        if distance_metric == \"L2\":\n",
    "            return self.sess.run(self.exploration_loss_L2, feed_dict={self.state:states, self.actions:actions,\\\n",
    "                                                               self.targets:targets, self.batch_Q:batch_Q,\\\n",
    "                                                               self.historic_order:historic_order})\n",
    "        if distance_metric == \"Linf\":\n",
    "            return self.sess.run(self.exploration_loss_Linf, feed_dict={self.state:states, self.actions:actions,\\\n",
    "                                                               self.targets:targets, self.batch_Q:batch_Q,\\\n",
    "                                                               self.historic_order:historic_order})\n",
    "    "
   ]
  },
  {
   "cell_type": "code",
<<<<<<< HEAD
   "execution_count": 3,
=======
   "execution_count": 43,
>>>>>>> 1a5298757104a1ba9fe7d15a5f01a0e98bc8855d
   "metadata": {},
   "outputs": [],
   "source": [
    "# Implement replay buffer\n",
    "import random\n",
    "class ReplayBuffer(object):\n",
    "    \n",
    "    def __init__(self, maxlength):\n",
    "        \"\"\"\n",
    "        maxlength: max number of tuples to store in the buffer\n",
    "        if there are more tuples than maxlength, pop out the oldest tuples\n",
    "        \"\"\"\n",
    "        self.buffer = deque()\n",
    "        self.number = 0\n",
    "        self.maxlength = maxlength\n",
    "    \n",
    "    def append(self, experience):\n",
    "        \"\"\"\n",
    "        this function implements appending new experience tuple\n",
    "        experience: a tuple of the form (s,a,r,s^\\prime)\n",
    "        \"\"\"\n",
    "        self.buffer.append(experience)\n",
    "        self.number += 1\n",
    "        \n",
    "    def pop(self):\n",
    "        \"\"\"\n",
    "        pop out the oldest tuples if self.number > self.maxlength\n",
    "        \"\"\"\n",
    "        while self.number > self.maxlength:\n",
    "            self.buffer.popleft()\n",
    "            self.number -= 1\n",
    "    \n",
    "    def sample(self, batchsize):\n",
    "        \"\"\"\n",
    "        this function samples 'batchsize' experience tuples\n",
    "        batchsize: size of the minibatch to be sampled\n",
    "        return: a list of tuples of form (s,a,r,s^\\prime)\n",
    "        \"\"\"\n",
    "        batch = random.sample(self.buffer, batchsize)\n",
    "            \n",
    "        return batch\n",
    "        "
   ]
  },
  {
   "cell_type": "code",
<<<<<<< HEAD
   "execution_count": 4,
=======
   "execution_count": 44,
>>>>>>> 1a5298757104a1ba9fe7d15a5f01a0e98bc8855d
   "metadata": {},
   "outputs": [],
   "source": [
    "def build_target_update(from_scope, to_scope):\n",
    "    \"\"\"\n",
    "    from_scope: string representing the scope of the network FROM which the variables will be copied\n",
    "    to_scope: string representing the scope of the network TO which the variables will be copied\n",
    "    \"\"\"\n",
    "    from_vars = tf.get_collection(tf.GraphKeys.TRAINABLE_VARIABLES, scope=from_scope)\n",
    "    to_vars = tf.get_collection(tf.GraphKeys.TRAINABLE_VARIABLES, scope=to_scope)\n",
    "    op = []\n",
    "    for v1, v2 in zip(from_vars, to_vars):\n",
    "        op.append(v2.assign(v1))\n",
    "    return op    "
   ]
  },
  {
   "cell_type": "code",
<<<<<<< HEAD
   "execution_count": 5,
   "metadata": {},
   "outputs": [
    {
     "name": "stdout",
     "output_type": "stream",
     "text": [
      "WARNING:tensorflow:From /Users/tobiasbraun/anaconda3/lib/python3.7/site-packages/tensorflow/python/framework/op_def_library.py:263: colocate_with (from tensorflow.python.framework.ops) is deprecated and will be removed in a future version.\n",
      "Instructions for updating:\n",
      "Colocations handled automatically by placer.\n",
      "WARNING:tensorflow:From /Users/tobiasbraun/anaconda3/lib/python3.7/site-packages/tensorflow/python/ops/math_ops.py:3066: to_int32 (from tensorflow.python.ops.math_ops) is deprecated and will be removed in a future version.\n",
      "Instructions for updating:\n",
      "Use tf.cast instead.\n",
      "WARNING:tensorflow:From /Users/tobiasbraun/anaconda3/lib/python3.7/site-packages/tensorflow/python/ops/math_grad.py:102: div (from tensorflow.python.ops.math_ops) is deprecated and will be removed in a future version.\n",
      "Instructions for updating:\n",
      "Deprecated in favor of operator or tf.math.divide.\n"
     ]
    },
    {
     "data": {
      "image/png": "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\n",
=======
   "execution_count": 45,
   "metadata": {},
   "outputs": [
    {
     "data": {
      "image/png": "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\n",
>>>>>>> 1a5298757104a1ba9fe7d15a5f01a0e98bc8855d
      "text/plain": [
       "<Figure size 432x288 with 1 Axes>"
      ]
     },
<<<<<<< HEAD
     "metadata": {
      "needs_background": "light"
     },
=======
     "metadata": {},
>>>>>>> 1a5298757104a1ba9fe7d15a5f01a0e98bc8855d
     "output_type": "display_data"
    },
    {
     "data": {
<<<<<<< HEAD
      "image/png": "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\n",
=======
      "image/png": "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\n",
>>>>>>> 1a5298757104a1ba9fe7d15a5f01a0e98bc8855d
      "text/plain": [
       "<Figure size 432x288 with 1 Axes>"
      ]
     },
<<<<<<< HEAD
     "metadata": {
      "needs_background": "light"
     },
=======
     "metadata": {},
>>>>>>> 1a5298757104a1ba9fe7d15a5f01a0e98bc8855d
     "output_type": "display_data"
    }
   ],
   "source": [
    "\"\"\"\n",
    "Learning with exploration Div-DQN. Tune hyperparameters to optimize learning.\n",
    "\"\"\"\n",
    "# parameter initializations\n",
    "lr = 1e-3  # learning rate for gradient update\n",
    "batchsize = 64  # batchsize for buffer sampling\n",
    "maxlength = 10000  # max number of tuples held by buffer\n",
    "envname = \"CartPole-v0\"  # environment name\n",
    "tau = 100  # time steps for target update\n",
    "episodes = 1000  # number of episodes to run \n",
    "initialsize = 500  # initial time steps before start updating\n",
    "epsilon = .05  # constant for exploration\n",
    "gamma = .99  # discount\n",
    "exploration_alpha = 0.1  #exploration parameter\n",
    "delta = 0.05 # exploration weight in loss function. 0.05 is already quite optimized\n",
    "distance_metric = \"L2\" # Options are: Linf, L1, L2, KL\n",
    "distribution_buffer = \"reward_high\" # Options are Unif, exp_high_recent, exp_high_old, reward_high\n",
    "# initialize environment\n",
    "env = gym.make(envname)\n",
    "obssize = env.observation_space.low.size\n",
    "actsize = env.action_space.n\n",
    "\n",
    "################# DO NOT CHANGE THIS PART###################\n",
    "#wrapper for accounting rewards\n",
    "rEpisode=0\n",
    "rList=[]\n",
    "\n",
    "def reset_decorate(func):\n",
    "    def func_wrapper():\n",
    "        global rList\n",
    "        global rEpisode\n",
    "        rList.append(rEpisode)\n",
    "        rEpisode=0\n",
    "        return(func())\n",
    "    return func_wrapper\n",
    "\n",
    "env.reset = reset_decorate(env.reset)\n",
    "\n",
    "def step_decorate(func):\n",
    "    def func_wrapper(action):\n",
    "        global rEpisode\n",
    "        s1, r, d, other = func(action)\n",
    "        rEpisode+=r\n",
    "        return(s1, r, d, other)\n",
    "    return func_wrapper\n",
    "\n",
    "env.step = step_decorate(env.step)\n",
    "\n",
    "def init():\n",
    "    rEpisode=0\n",
    "    rList=[]\n",
    "    return;\n",
    "#########################################################\n",
    "\n",
    "# initialize tensorflow session\n",
    "sess = tf.Session()\n",
    "sess.run(tf.global_variables_initializer())\n",
    "\n",
    "# optimizer\n",
    "optimizer = tf.train.AdamOptimizer(lr)\n",
    "\n",
    "# initialize networks\n",
    "with tf.variable_scope(\"principal\"):\n",
    "    Qprincipal = Qfunction(obssize, actsize, sess, optimizer)\n",
    "with tf.variable_scope(\"target\"):\n",
    "    Qtarget = Qfunction(obssize, actsize, sess, optimizer)\n",
    "\n",
    "# build ops\n",
    "update = build_target_update(\"principal\", \"target\")  # call sess.run(update) to copy\n",
    "                                                     # from principal to target\n",
    "\n",
    "# initialization of graph and buffer\n",
    "sess.run(tf.global_variables_initializer())\n",
    "buffer = ReplayBuffer(maxlength)\n",
    "sess.run(update)\n",
    "counter = 0\n",
    "# main iteration\n",
    "exploration_loss_log = np.array([])\n",
    "exploration_alpha_log = np.array([])\n",
    "rEpisode=0\n",
    "rList=[]\n",
    "for i in range(episodes):\n",
    "    s = env.reset()\n",
    "    d = False\n",
    "    rsum = 0\n",
    "    while not d:\n",
    "       \n",
    "        s_ = np.expand_dims(s, 0)\n",
    "        \n",
    "        if np.random.rand() < epsilon:\n",
    "            a = env.action_space.sample()\n",
    "         \n",
    "        else:\n",
    "            a = np.argmax(Qprincipal.compute_Qvalues(s_))\n",
    "        \n",
    "        s1, r, d, _ = env.step(a)\n",
    "        \n",
    "        rsum += r\n",
    "        counter += 1\n",
<<<<<<< HEAD
    "        Q = Qprincipal.compute_Qvalues_probs(s_)[0]\n",
=======
    "\n",
>>>>>>> 1a5298757104a1ba9fe7d15a5f01a0e98bc8855d
    "        if distribution_buffer == \"Unif\":\n",
    "            counter_ = 0\n",
    "        elif distribution_buffer == \"exp_high_recent\": # recent experience has a bigger historic order value\n",
    "            counter_ = counter                         # e.g. 10 is a more recent experience than 5\n",
    "        elif distribution_buffer == \"exp_high_older\": # older experience has a bigger historic order value                      \n",
    "            counter_ = -counter                       # e.g. -5 is an older experience than -10\n",
    "        elif distribution_buffer == \"reward_high\": # experience with high reward has a bigger historic order value                      \n",
    "            counter_ = r          \n",
    "        buffer.append((s, a, r, s1, d, Q, counter_))\n",
    "       \n",
    "\n",
    "        if (counter > initialsize):\n",
    "            sample = buffer.sample(batchsize)\n",
    "            sbatch = np.array([sam[0] for sam in sample])\n",
    "            abatch = np.array([sam[1] for sam in sample])\n",
    "            rbatch = np.array([sam[2] for sam in sample])\n",
    "            s1_batch = np.array([sam[3] for sam in sample])\n",
    "            d_batch = np.array([sam[4] for sam in sample])\n",
    "            Q_batch = np.array([sam[5] for sam in sample])\n",
    "            historic_order = np.array([sam[6] for sam in sample]) \n",
    "            targets = Qtarget.compute_Qvalues(s1_batch)\n",
    "            target_ = rbatch + gamma*np.max(targets, 1)*(1-d_batch)\n",
    "            if not counter%20:\n",
    "                exploration_loss = Qprincipal.compute_exploration_loss(\n",
    "                    sbatch, abatch, target_, Q_batch, historic_order, distance_metric)\n",
    "                exploration_loss_log = np.append(exploration_loss_log, exploration_loss)\n",
    "                exploration_alpha_log = np.append(exploration_alpha_log, exploration_alpha)\n",
<<<<<<< HEAD
    "            \n",
=======
    "\n",
>>>>>>> 1a5298757104a1ba9fe7d15a5f01a0e98bc8855d
    "                if exploration_loss < delta:\n",
    "                    exploration_alpha *= 1.01\n",
    "                else:\n",
    "                    exploration_alpha *= 0.99\n",
    "                \n",
    "            Qprincipal.train_explore_(\n",
    "                sbatch, abatch, target_, Q_batch, exploration_alpha, historic_order, distance_metric)\n",
    "            \n",
    "            if (counter%tau == 0):\n",
    "                sess.run(update)\n",
    "                \n",
    "        s = s1\n",
    "plt.plot(exploration_loss_log)\n",
    "plt.show()\n",
    "plt.plot(exploration_alpha_log)\n",
    "plt.show()"
   ]
  },
  {
   "cell_type": "code",
<<<<<<< HEAD
   "execution_count": 6,
=======
   "execution_count": 46,
>>>>>>> 1a5298757104a1ba9fe7d15a5f01a0e98bc8855d
   "metadata": {},
   "outputs": [
    {
     "data": {
<<<<<<< HEAD
      "image/png": "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\n",
      "text/plain": [
       "<Figure size 432x288 with 1 Axes>"
      ]
     },
     "metadata": {
      "needs_background": "light"
     },
=======
      "text/plain": [
       "array([0.05953962, 0.05429439, 0.05551712, ..., 0.65452588, 0.44649899,\n",
       "       0.64222175])"
      ]
     },
     "execution_count": 46,
     "metadata": {},
     "output_type": "execute_result"
    }
   ],
   "source": [
    "exploration_loss_log"
   ]
  },
  {
   "cell_type": "code",
   "execution_count": 47,
   "metadata": {},
   "outputs": [
    {
     "data": {
      "image/png": "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\n",
      "text/plain": [
       "<Figure size 432x288 with 1 Axes>"
      ]
     },
     "metadata": {},
>>>>>>> 1a5298757104a1ba9fe7d15a5f01a0e98bc8855d
     "output_type": "display_data"
    }
   ],
   "source": [
    "# Code Evaluation: DO NOT CHANGE CODE HERE\n",
    "\n",
    "from numpy import convolve, ones\n",
    "def movingaverage(interval, window_size):\n",
    "    window= np.ones(int(window_size))/float(window_size)\n",
    "    return np.convolve(interval, window, 'valid')\n",
    "from pylab import plot\n",
    "%matplotlib inline \n",
    "\n",
    "rm=movingaverage(rList, 100)\n",
    "plot(rm)\n",
    "plt.title(\"Learning Curve\")\n",
    "plt.xlabel(\"Episodes\")\n",
    "plt.ylabel(\"Reward\")\n",
    "plt.show()"
   ]
  },
  {
   "cell_type": "code",
<<<<<<< HEAD
   "execution_count": 7,
=======
   "execution_count": 48,
>>>>>>> 1a5298757104a1ba9fe7d15a5f01a0e98bc8855d
   "metadata": {},
   "outputs": [
    {
     "name": "stdout",
     "output_type": "stream",
     "text": [
<<<<<<< HEAD
      "eval performance of DQN agent: 154.83\n"
=======
      "eval performance of DQN agent: 156.13\n"
>>>>>>> 1a5298757104a1ba9fe7d15a5f01a0e98bc8855d
     ]
    }
   ],
   "source": [
    "# Code Evaluation: DO NOT CHANGE CODE HERE\n",
    "# after training, we will evaluate the performance of the agent\n",
    "# on a target environment\n",
    "eval_episodes = 100\n",
    "record = []\n",
    "env = gym.make('CartPole-v0')\n",
    "eval_mode = True\n",
    "for ite in range(eval_episodes):\n",
    "    \n",
    "    obs = env.reset()\n",
    "    done = False\n",
    "    rsum = 0\n",
    "    \n",
    "    while not done:\n",
    "        if eval_mode:\n",
    "            values = Qprincipal.compute_Qvalues(np.expand_dims(obs,0))\n",
    "            action = np.argmax(values.flatten())\n",
    "        else:\n",
    "            raise NotImplementedError\n",
    "\n",
    "        newobs, r, done, _ = env.step(action)\n",
    "        rsum += r\n",
    "        obs = newobs\n",
    "    \n",
    "    record.append(rsum)\n",
    "\n",
    "print(\"eval performance of DQN agent: {}\".format(np.mean(record)))"
   ]
  },
  {
   "cell_type": "code",
   "execution_count": null,
   "metadata": {},
   "outputs": [],
   "source": []
  }
 ],
 "metadata": {
  "kernelspec": {
   "display_name": "Python 3",
   "language": "python",
   "name": "python3"
  },
  "language_info": {
   "codemirror_mode": {
    "name": "ipython",
    "version": 3
   },
   "file_extension": ".py",
   "mimetype": "text/x-python",
   "name": "python",
   "nbconvert_exporter": "python",
   "pygments_lexer": "ipython3",
<<<<<<< HEAD
   "version": "3.7.1"
=======
   "version": "3.6.5"
>>>>>>> 1a5298757104a1ba9fe7d15a5f01a0e98bc8855d
  }
 },
 "nbformat": 4,
 "nbformat_minor": 2
}
