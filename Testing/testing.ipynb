{
 "cells": [
  {
   "cell_type": "code",
   "execution_count": 6,
   "metadata": {},
   "outputs": [],
   "source": [
    "from models.dqn_exploration import dqn_exp\n",
    "from models.dqn_noexploration import dqn_noexp\n",
    "from models.a2c_exploration import a2c_exp\n",
    "from models.a2c_noexploration import a2c_noexp\n",
    "import seaborn as sns\n",
    "from matplotlib import pyplot as plt\n",
    "#import utils"
   ]
  },
  {
   "cell_type": "code",
   "execution_count": 7,
   "metadata": {},
   "outputs": [],
   "source": [
    "def get_iter(func,name):\n",
    "    record = []\n",
    "    for i in range(1,11):\n",
    "        print('iteration',i, ', num of episodes ', i*100)\n",
    "        record.append(func(episodes = i*100))\n",
    "\n",
    "    x = [x*100 for x in range(1,len(record)+1)]\n",
    "    sns.lineplot(x,record)\n",
    "    plt.title('DQN with exploration')\n",
    "    plt.xlabel('Episodes')\n",
    "    plt.ylabel('Reward')\n",
    "    plt.savefig(name+'.png')\n",
    "    plt.show()"
   ]
  },
  {
   "cell_type": "code",
   "execution_count": null,
   "metadata": {},
   "outputs": [
    {
     "name": "stdout",
     "output_type": "stream",
     "text": [
      "iteration 1 , num of episodes  100\n",
      "eval performance of PG agent: 30.82 \n",
      "\n",
      "iteration 2 , num of episodes  200\n",
      "eval performance of PG agent: 39.1 \n",
      "\n",
      "iteration 3 , num of episodes  300\n",
      "eval performance of PG agent: 52.01 \n",
      "\n",
      "iteration 4 , num of episodes  400\n",
      "eval performance of PG agent: 60.69 \n",
      "\n",
      "iteration 5 , num of episodes  500\n",
      "eval performance of PG agent: 131.4 \n",
      "\n",
      "iteration 6 , num of episodes  600\n",
      "eval performance of PG agent: 266.14 \n",
      "\n",
      "iteration 7 , num of episodes  700\n",
      "eval performance of PG agent: 275.74 \n",
      "\n",
      "iteration 8 , num of episodes  800\n",
      "eval performance of PG agent: 404.33 \n",
      "\n",
      "iteration 9 , num of episodes  900\n"
     ]
    }
   ],
   "source": [
    "for i in range(0,5):\n",
    "    get_iter(a2c_noexp,'a2c_noexp_'+str(i))"
   ]
  },
  {
   "cell_type": "code",
   "execution_count": null,
   "metadata": {},
   "outputs": [],
   "source": [
    "for i in range(0,5):\n",
    "    get_iter(a2c_exp,'a2c_exp_'+str(i))"
   ]
  },
  {
   "cell_type": "code",
   "execution_count": null,
   "metadata": {},
   "outputs": [],
   "source": [
    "for i in range(0,5):\n",
    "    get_iter(dqn_noexp,'dqn_noexp_'+str(i))"
   ]
  },
  {
   "cell_type": "code",
   "execution_count": null,
   "metadata": {},
   "outputs": [],
   "source": [
    "for i in range(0,5):\n",
    "    get_iter(dqn_exp,'dqn_exp_'+str(i))"
   ]
  },
  {
   "cell_type": "code",
   "execution_count": null,
   "metadata": {},
   "outputs": [],
   "source": []
  }
 ],
 "metadata": {
  "kernelspec": {
   "display_name": "Python 3",
   "language": "python",
   "name": "python3"
  },
  "language_info": {
   "codemirror_mode": {
    "name": "ipython",
    "version": 3
   },
   "file_extension": ".py",
   "mimetype": "text/x-python",
   "name": "python",
   "nbconvert_exporter": "python",
   "pygments_lexer": "ipython3",
   "version": "3.6.5"
  }
 },
 "nbformat": 4,
 "nbformat_minor": 2
}
