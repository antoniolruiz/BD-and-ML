{
 "cells": [
  {
   "cell_type": "code",
   "execution_count": 6,
   "metadata": {},
   "outputs": [],
   "source": [
    "from models.dqn_exploration import dqn_exp\n",
    "from models.dqn_noexploration import dqn_noexp\n",
    "from models.a2c_exploration import a2c_exp\n",
    "from models.a2c_noexploration import a2c_noexp\n",
    "import seaborn as sns\n",
    "from matplotlib import pyplot as plt\n",
    "#import utils"
   ]
  },
  {
   "cell_type": "markdown",
   "metadata": {},
   "source": [
    "#### A2C"
   ]
  },
  {
   "cell_type": "code",
   "execution_count": 7,
   "metadata": {},
   "outputs": [],
   "source": [
    "envname = ['CartPole-v0','Acrobot-v1']\n",
    "adaptive_scaling_strategy = ['distance','proactive','reactive']\n",
    "distance_metric = ['Linf','L1','L2','KL','JS']\n",
    "distribution_buffer = ['Unif', 'exp_high_recent','exp_high_older','reward_high'] \n",
    "\n",
    "scores = []\n",
    "for environment in envname:\n",
    "    if environment == 'CartPole-v0': episodes = 400\n",
    "    else: episodes = 100\n",
    "    for alpha in adaptive_scaling_strategy:\n",
    "        for distance in distance_metric:\n",
    "            for distribution in distribution_buffer:\n",
    "                rEpisode=0\n",
    "                rList=[]\n",
    "                score = a2c_exp(envname = environment, episodes = episodes, adaptive_scaling_strategy = alpha, distance_metric = distance, distribution_buffer = distribution)\n",
    "                scores.append([score,environment,episodes,alpha,distance,distribution])"
   ]
  },
  {
   "cell_type": "code",
   "execution_count": null,
   "metadata": {},
   "outputs": [],
   "source": [
    "with open(\"A2C2/scores.csv\", \"w\") as f:\n",
    "    writer = csv.writer(f)\n",
    "    writer.writerows(scores)"
   ]
  },
  {
   "cell_type": "markdown",
   "metadata": {},
   "source": [
    "#### DQN"
   ]
  },
  {
   "cell_type": "code",
   "execution_count": null,
   "metadata": {},
   "outputs": [],
   "source": [
    "envname = ['CartPole-v0','Acrobot-v1']\n",
    "adaptive_scaling_strategy = ['distance','proactive','reactive']\n",
    "distance_metric = ['Linf','L1','L2','KL','JS']\n",
    "distribution_buffer = ['Unif', 'exp_high_recent', 'exp_high_older', 'reward_high']\n",
    "\n",
    "scores = []\n",
    "for env in envname:\n",
    "    if env == 'CartPole-v0': episodes = 400\n",
    "    else: episodes = 100\n",
    "    for alpha in adaptive_scaling_strategy:\n",
    "        for distance in distance_metric:\n",
    "            for distribution in distribution_buffer:\n",
    "                rEpisode=0\n",
    "                rList=[]\n",
    "                score = dqn_exp(envname = env, episodes = episodes, adaptive_scaling_strategy = alpha, distance_metric = distance, distribution_buffer = distribution)\n",
    "                scores.append([score,env,episodes,alpha,distance,distribution])"
   ]
  },
  {
   "cell_type": "code",
   "execution_count": null,
   "metadata": {},
   "outputs": [],
   "source": [
    "with open(\"DQN2/scores.csv\", \"w\") as f:\n",
    "    writer = csv.writer(f)\n",
    "    writer.writerows(scores)"
   ]
  }
 ],
 "metadata": {
  "kernelspec": {
   "display_name": "Python 3",
   "language": "python",
   "name": "python3"
  },
  "language_info": {
   "codemirror_mode": {
    "name": "ipython",
    "version": 3
   },
   "file_extension": ".py",
   "mimetype": "text/x-python",
   "name": "python",
   "nbconvert_exporter": "python",
   "pygments_lexer": "ipython3",
   "version": "3.6.5"
  }
 },
 "nbformat": 4,
 "nbformat_minor": 2
}
